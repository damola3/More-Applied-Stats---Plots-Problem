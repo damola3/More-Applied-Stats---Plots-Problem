{
 "cells": [
  {
   "cell_type": "code",
   "execution_count": 1,
   "id": "76449149",
   "metadata": {},
   "outputs": [],
   "source": [
    "import numpy as np"
   ]
  },
  {
   "cell_type": "code",
   "execution_count": 28,
   "id": "9b8f0d25",
   "metadata": {
    "scrolled": true
   },
   "outputs": [
    {
     "data": {
      "text/plain": [
       "21"
      ]
     },
     "execution_count": 28,
     "metadata": {},
     "output_type": "execute_result"
    }
   ],
   "source": [
    "np.random.binomial(30, 0.6, size=None)"
   ]
  },
  {
   "cell_type": "code",
   "execution_count": 40,
   "id": "76783c1a",
   "metadata": {},
   "outputs": [
    {
     "name": "stderr",
     "output_type": "stream",
     "text": [
      "C:\\Users\\Ayo\\anaconda3\\lib\\site-packages\\seaborn\\distributions.py:2619: FutureWarning: `distplot` is a deprecated function and will be removed in a future version. Please adapt your code to use either `displot` (a figure-level function with similar flexibility) or `kdeplot` (an axes-level function for kernel density plots).\n",
      "  warnings.warn(msg, FutureWarning)\n",
      "C:\\Users\\Ayo\\anaconda3\\lib\\site-packages\\seaborn\\distributions.py:2619: FutureWarning: `distplot` is a deprecated function and will be removed in a future version. Please adapt your code to use either `displot` (a figure-level function with similar flexibility) or `kdeplot` (an axes-level function for kernel density plots).\n",
      "  warnings.warn(msg, FutureWarning)\n"
     ]
    },
    {
     "data": {
      "image/png": "[encoded data removed]",
      "text/plain": [
       "<Figure size 432x288 with 1 Axes>"
      ]
     },
     "metadata": {
      "needs_background": "light"
     },
     "output_type": "display_data"
    }
   ],
   "source": [
    "from numpy import random\n",
    "import matplotlib.pyplot as plt\n",
    "import seaborn as sns\n",
    "\n",
    "sns.distplot(random.normal(loc=24, scale=np.sqrt(9.6), size=1000), hist=False, label='normal')\n",
    "sns.distplot(random.binomial(n=40, p=0.6, size=1000), hist=False, label='binomial')\n",
    "\n",
    "plt.show()\n",
    "             "
   ]
  },
  {
   "cell_type": "code",
   "execution_count": 3,
   "id": "c8bd52fe",
   "metadata": {},
   "outputs": [],
   "source": [
    "import math"
   ]
  },
  {
   "cell_type": "code",
   "execution_count": 13,
   "id": "46d91eae",
   "metadata": {},
   "outputs": [],
   "source": [
    "def binprob(n,r,p):\n",
    "    \"\"\"\n",
    "    input: number of trials, number of successful events\n",
    "    & probability of a successful event\n",
    "    output: binomial probability\n",
    "    \"\"\"\n",
    "    return (math.comb(n, r))*(p**r)*(1-p)**(n-r)"
   ]
  },
  {
   "cell_type": "code",
   "execution_count": 17,
   "id": "cc7a7108",
   "metadata": {},
   "outputs": [],
   "source": [
    "def binupprob(n,r,p):\n",
    "    \"\"\"\n",
    "    input: number of trials, number of successful events\n",
    "    & probability of a successful event\n",
    "    output: cumulative binomial probability of n & above\n",
    "    \"\"\"\n",
    "    cum=0\n",
    "    for i in range(n-r+1):\n",
    "        cum+=binprob(n,r+i,p)\n",
    "    return cum"
   ]
  },
  {
   "cell_type": "code",
   "execution_count": 18,
   "id": "df81b408",
   "metadata": {},
   "outputs": [
    {
     "data": {
      "text/plain": [
       "0.03522248011416879"
      ]
     },
     "execution_count": 18,
     "metadata": {},
     "output_type": "execute_result"
    }
   ],
   "source": [
    "binupprob(40,30,0.6)"
   ]
  },
  {
   "cell_type": "code",
   "execution_count": 27,
   "id": "45247d87",
   "metadata": {},
   "outputs": [],
   "source": [
    "def zscore(m,var,v):\n",
    "    \"\"\"\n",
    "    input: mean, variance, value\n",
    "    output: z value\n",
    "    \"\"\"\n",
    "    return (v-m)/math.sqrt(var)"
   ]
  },
  {
   "cell_type": "code",
   "execution_count": 28,
   "id": "2f16a36d",
   "metadata": {},
   "outputs": [
    {
     "data": {
      "text/plain": [
       "1.7751173670117326"
      ]
     },
     "execution_count": 28,
     "metadata": {},
     "output_type": "execute_result"
    }
   ],
   "source": [
    "zscore(24,9.6,29.5)"
   ]
  },
  {
   "cell_type": "code",
   "execution_count": 35,
   "id": "910b803b",
   "metadata": {
    "scrolled": true
   },
   "outputs": [
    {
     "data": {
      "text/plain": [
       "0.020694732666015625"
      ]
     },
     "execution_count": 35,
     "metadata": {},
     "output_type": "execute_result"
    }
   ],
   "source": [
    "binupprob(20,15,0.5)"
   ]
  },
  {
   "cell_type": "code",
   "execution_count": 56,
   "id": "dd4d7f92",
   "metadata": {},
   "outputs": [
    {
     "data": {
      "text/plain": [
       "2.0124611797498106"
      ]
     },
     "execution_count": 56,
     "metadata": {},
     "output_type": "execute_result"
    }
   ],
   "source": [
    "normbin(20,0.5,14.5)"
   ]
  },
  {
   "cell_type": "code",
   "execution_count": 54,
   "id": "78f640a2",
   "metadata": {},
   "outputs": [],
   "source": [
    "def normbin(n,p,val):\n",
    "    \"\"\"\n",
    "    input: number of trials, number of successful events\n",
    "    & probability of a successful event\n",
    "    output: z score of a normal distribution\n",
    "    \"\"\"\n",
    "    return (val-n*p)/(math.sqrt(n*p*(1-p)))\n",
    "    "
   ]
  },
  {
   "cell_type": "code",
   "execution_count": 31,
   "id": "17bec6d4",
   "metadata": {},
   "outputs": [
    {
     "data": {
      "text/plain": [
       "0.4201749999999999"
      ]
     },
     "execution_count": 31,
     "metadata": {},
     "output_type": "execute_result"
    }
   ],
   "source": [
    "binupprob(6,5,0.7)"
   ]
  },
  {
   "cell_type": "code",
   "execution_count": 32,
   "id": "bba07ce3",
   "metadata": {},
   "outputs": [
    {
     "data": {
      "text/plain": [
       "0.11764899999999996"
      ]
     },
     "execution_count": 32,
     "metadata": {},
     "output_type": "execute_result"
    }
   ],
   "source": [
    "binupprob(6,6,0.7)"
   ]
  }
 ],
 "metadata": {
  "kernelspec": {
   "display_name": "Python 3 (ipykernel)",
   "language": "python",
   "name": "python3"
  },
  "language_info": {
   "codemirror_mode": {
    "name": "ipython",
    "version": 3
   },
   "file_extension": ".py",
   "mimetype": "text/x-python",
   "name": "python",
   "nbconvert_exporter": "python",
   "pygments_lexer": "ipython3",
   "version": "3.9.12"
  }
 },
 "nbformat": 4,
 "nbformat_minor": 5
}
